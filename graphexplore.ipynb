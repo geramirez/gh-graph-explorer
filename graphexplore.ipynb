{
 "cells": [
  {
   "cell_type": "markdown",
   "id": "3490d863-bd69-4f34-94ba-f3928d8be80f",
   "metadata": {},
   "source": [
    "# GitHub Graph Explorer"
   ]
  },
  {
   "cell_type": "code",
   "execution_count": 12,
   "id": "d37daa06-71d5-47b1-8a84-989d1ef64d8e",
   "metadata": {},
   "outputs": [],
   "source": [
    "# Fill in your handle\n",
    "me = 'geramirez'"
   ]
  },
  {
   "cell_type": "code",
   "execution_count": 1,
   "id": "5a484949-58a2-4054-9543-ad1c955f9da7",
   "metadata": {},
   "outputs": [],
   "source": [
    "import networkx as nx\n",
    "import pandas as pd\n",
    "from pyvis.network import Network\n",
    "import github_graph_tools as gg"
   ]
  },
  {
   "cell_type": "markdown",
   "id": "2170cbbf",
   "metadata": {},
   "source": []
  },
  {
   "cell_type": "markdown",
   "id": "3817d9cc-725f-48a7-ad83-e3bc425cf9a3",
   "metadata": {},
   "source": [
    "## Entire Graph"
   ]
  },
  {
   "cell_type": "code",
   "execution_count": 2,
   "id": "8fbe04a6-3fcb-4ecf-bcfd-92dbb46e6275",
   "metadata": {},
   "outputs": [],
   "source": [
    "collector = gg.CSVGraphCollector(filename=\"links.csv\")\n",
    "team = ['geramirez', ]\n",
    "graph_builder = gg.GraphBuilder(collector=collector, team=team)\n",
    "G = graph_builder.build()"
   ]
  },
  {
   "cell_type": "code",
   "execution_count": null,
   "id": "f15fad28-02cf-4ec5-9001-2cbd835a283e",
   "metadata": {},
   "outputs": [
    {
     "name": "stdout",
     "output_type": "stream",
     "text": [
      "number of edges 20693\n"
     ]
    }
   ],
   "source": [
    "print(\"number of edges\", G.number_of_edges())"
   ]
  },
  {
   "cell_type": "markdown",
   "id": "a3534a6a-9b32-40a1-92c0-4127c403e081",
   "metadata": {},
   "source": [
    "## Individual Work"
   ]
  },
  {
   "cell_type": "code",
   "execution_count": 24,
   "id": "20e47546-b919-4281-8dbb-16762c927b6b",
   "metadata": {},
   "outputs": [
    {
     "name": "stdout",
     "output_type": "stream",
     "text": [
      "number of edges 20693\n"
     ]
    }
   ],
   "source": [
    "GSmall = nx.dfs_tree(G, source=me, depth_limit=1)\n",
    "GSmall.number_of_edges()\n",
    "print(\"number of edges\", G.number_of_edges())"
   ]
  },
  {
   "cell_type": "code",
   "execution_count": null,
   "id": "41ad93eb-6ae2-440e-85d8-7faf68aa19d5",
   "metadata": {},
   "outputs": [],
   "source": [
    "# list of issues\n",
    "for edge in GSmall.edges():\n",
    "    print(edge[1])"
   ]
  },
  {
   "cell_type": "code",
   "execution_count": 25,
   "id": "f071d72b-5f3b-41e6-ac69-82046e0dbf68",
   "metadata": {},
   "outputs": [
    {
     "name": "stdout",
     "output_type": "stream",
     "text": [
      "small-graph.html\n"
     ]
    }
   ],
   "source": [
    "net = Network(height=\"750px\", width=\"100%\", bgcolor=\"#222222\", font_color=\"white\")\n",
    "net.from_nx(GSmall)\n",
    "net.show_buttons(filter_=['physics'])\n",
    "net.show(\"small-graph.html\", notebook=False)"
   ]
  },
  {
   "cell_type": "markdown",
   "id": "5a267d35-d8bb-437e-9c95-10d75da0a916",
   "metadata": {},
   "source": [
    "## Work with others"
   ]
  },
  {
   "cell_type": "code",
   "execution_count": 16,
   "id": "fa694b08-0770-4065-bdc3-f82a8dabcb07",
   "metadata": {},
   "outputs": [],
   "source": [
    "# teammate\n",
    "teammate = 'jlord'"
   ]
  },
  {
   "cell_type": "code",
   "execution_count": 17,
   "id": "90639042-531d-40b8-b303-483821071639",
   "metadata": {},
   "outputs": [
    {
     "name": "stdout",
     "output_type": "stream",
     "text": [
      "github/notifyd/issues/3878\n",
      "github/notifyd/issues/3969\n",
      "github/notifications/issues/2667\n",
      "github/notifications/issues/2771\n",
      "github/notifications/issues/2344\n",
      "github/notifications/issues/2767\n",
      "github/notifications/issues/2725\n",
      "github/notifications/issues/2481\n",
      "github/notifications/issues/2458\n",
      "github/notifications/issues/2609\n",
      "github/notifications/issues/2589\n",
      "github/notifications/issues/2623\n",
      "github/notifications/issues/2534\n",
      "github/notifications-experience/issues/411\n",
      "github/slack/issues/3968\n",
      "github/slack/issues/3773\n",
      "github/scheduled-reminders/issues/127\n",
      "github/scheduled-reminders/issues/99\n",
      "github/scheduled-reminders/issues/109\n",
      "github/scheduled-reminders/issues/103\n",
      "github/scheduled-reminders/issues/100\n"
     ]
    }
   ],
   "source": [
    "TwoPeople = nx.Graph()\n",
    "paths = nx.all_simple_edge_paths(G, source=me, target=teammate, cutoff=2)\n",
    "for path in paths:\n",
    "    print(path[0][1])\n",
    "    TwoPeople.add_edges_from(path)"
   ]
  },
  {
   "cell_type": "code",
   "execution_count": 9,
   "id": "ff8e4548-9027-4bc5-8107-a61cf07d7a6a",
   "metadata": {},
   "outputs": [
    {
     "name": "stdout",
     "output_type": "stream",
     "text": [
      "small-graph-two-people.html\n"
     ]
    }
   ],
   "source": [
    "net = Network(height=\"750px\", width=\"100%\", bgcolor=\"#222222\", font_color=\"white\")\n",
    "net.from_nx(TwoPeople)\n",
    "net.show_buttons(filter_=['physics'])\n",
    "net.show(\"small-graph-two-people.html\", notebook=False)"
   ]
  }
 ],
 "metadata": {
  "kernelspec": {
   "display_name": "Python 3 (ipykernel)",
   "language": "python",
   "name": "python3"
  },
  "language_info": {
   "codemirror_mode": {
    "name": "ipython",
    "version": 3
   },
   "file_extension": ".py",
   "mimetype": "text/x-python",
   "name": "python",
   "nbconvert_exporter": "python",
   "pygments_lexer": "ipython3",
   "version": "3.12.2"
  }
 },
 "nbformat": 4,
 "nbformat_minor": 5
}
